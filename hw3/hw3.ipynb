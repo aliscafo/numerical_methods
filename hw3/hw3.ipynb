{
 "cells": [
  {
   "cell_type": "markdown",
   "metadata": {},
   "source": [
    "### Упражнение 1\n",
    "\n",
    "Выведем формулу второго порядка точности для первой производной $f'(x)$ в точке $x_0$.\n",
    "\n",
    "Воспользуемся формулой, полученной на лекции: $p^{(1)}(x) = [x_0, x_1]f + [x_0, x_1, x_2]f \\sum_0^1 (x-x_i) + ...$. \n",
    "\n",
    "Требуется точность второго порядка, сл-но нас интересует сумма \n",
    "$[x_0, x_1]f + [x_0, x_1, x_2]f \\sum_0^1 (x-x_i) = [x_0, x_1]f + [x_0, x_1, x_2]f ( (x - x_0) + (x - x_1) )$.\n",
    "\n",
    "Пусть точка, в которой мы хотим найти производную, - $x_d$. Тогда в нашем случае $x_0 = x_d - h / \\alpha$, $x_1 = x_d$, $x_2 = x_d + \\alpha h$.\n",
    "\n",
    "Преобразуем сумму $[x_0, x_1]f + [x_0, x_1, x_2]f ( (x - x_0) + (x - x_1) )$. \n",
    "\n",
    "$[x_0, x_1]f = \\frac{f(x_1) - f(x_0)}{x_1 - x_0}$\n",
    "\n",
    "$[x_0, x_1, x_2]f = \\frac{[x_0, x_2]f - [x_0, x_1]f}{x_2 - x_1} = \n",
    "\\frac{\\frac{f(x_2) - f(x_0)}{x_2 - x_0} - \\frac{f(x_1) - f(x_0)}{x_1 - x_0}}{x_2 - x_1}$\n",
    "\n",
    "$[x_0, x_1]f + [x_0, x_1, x_2]f ( (x - x_0) + (x - x_1) ) = \n",
    "\\frac{f(x_1) - f(x_0)}{x_1 - x_0} + \\frac{\\frac{f(x_2) - f(x_0)}{x_2 - x_0} - \\frac{f(x_1) - f(x_0)}{x_1 - x_0}}{x_2 - x_1} ( (x - x_0) + (x - x_1) ) = \n",
    "\\frac{f(x_1) - f(x_0)}{h / \\alpha} + \\frac{\\frac{f(x_2) - f(x_0)}{\\alpha h + h / \\alpha} - \\frac{f(x_1) - f(x_0)}{h / \\alpha}}{\\alpha h} ( (x - x_0) + (x - x_1) )\n",
    "$\n",
    "\n",
    "Нас интересует $f'(x)$ в точке $x_d = x_1$. Тогда:\n",
    "\n",
    "$f'(x_d) = \\frac{f(x_1) - f(x_0)}{h / \\alpha} + \\frac{\\frac{f(x_2) - f(x_0)}{\\alpha h + h / \\alpha} - \\frac{f(x_1) - f(x_0)}{h / \\alpha}}{\\alpha h} ( h / \\alpha ) = \n",
    "\\frac{f(x_1) - f(x_0)}{h / \\alpha} + (\\frac{f(x_2) - f(x_0)}{\\alpha^2 h^2 + h^2} - \\frac{f(x_1) - f(x_0)}{h^2}) ( h / \\alpha ) = \n",
    "\\alpha \\frac{f(x_1) - f(x_0)}{h} + \\frac{h / \\alpha (f(x_2) - f(x_0))}{\\alpha^2 h^2 + h^2} - \\frac{h / \\alpha (f(x_1) - f(x_0))}{h^2} = \n",
    "\\alpha \\frac{f(x_1) - f(x_0)}{h} + \\frac{f(x_2) - f(x_0)}{\\alpha^3 h + h \\alpha} - \\frac{ (f(x_1) - f(x_0))}{h \\alpha} = (\\alpha - \\frac{1}{\\alpha}) \\frac{f(x_1) - f(x_0)}{h} + \\frac{f(x_2) - f(x_0)}{\\alpha^3 h + h \\alpha} = \n",
    "(\\alpha - \\frac{1}{\\alpha}) \\frac{f(x_d) - f(x_d - h / \\alpha)}{h} + \\frac{f(x_d + \\alpha h) - f(x_d - h / \\alpha)}{\\alpha^3 h + h \\alpha}$\n",
    "\n",
    "\n",
    "Построим графики для различных значений $\\alpha$ в зависимости от $h \\in [10^{-8}; 1]$.\n",
    "\n"
   ]
  },
  {
   "cell_type": "code",
   "execution_count": 13,
   "metadata": {},
   "outputs": [
    {
     "data": {
      "image/png": "[encoded data removed]",
      "text/plain": [
       "<matplotlib.figure.Figure at 0x116744be0>"
      ]
     },
     "metadata": {},
     "output_type": "display_data"
    }
   ],
   "source": [
    "import math\n",
    "import pylab\n",
    "import numpy as np\n",
    "\n",
    "xd = 2\n",
    "\n",
    "def func(x):\n",
    "    return np.sin(x)\n",
    "\n",
    "def d_func(x):\n",
    "    return np.cos(x)\n",
    "\n",
    "def d_interpolation_polynom(x, alpha, h):\n",
    "    x0 = x - h / alpha\n",
    "    x1 = x\n",
    "    x2 = x + alpha * h\n",
    "    return (alpha - 1 / alpha) * (func(x1) - func(x0)) / h + (func(x2) - func(x0)) / (alpha ** 3 * h + h * alpha)\n",
    "    \n",
    "shards = 300\n",
    "alphas = [1, 1.2, 1.4, 1.6, 1.8, 2.0]\n",
    "ha = 10 ** (-8)\n",
    "hb = 1\n",
    "\n",
    "hs = [ha + i * (hb - ha) / (shards - 1) for i in range(0, shards)]\n",
    "\n",
    "for a in alphas:\n",
    "    ays = [np.abs(d_func(xd) - d_interpolation_polynom(xd, a, h)) for h in hs]\n",
    "    pylab.plot(hs, ays)\n",
    "    \n",
    "pylab.legend(list(map(lambda a: \"alpha = \" + str(a), alphas)))    \n",
    "pylab.show()    "
   ]
  },
  {
   "cell_type": "markdown",
   "metadata": {},
   "source": [
    "Отчетливо видно, что с ростом $\\alpha$ угол наклона графика растёт. Также видно, что для каждого $\\alpha$ погрешность убывает при стремлении к 0.\n",
    "\n",
    "Соотнесем это с теорией. \n",
    "\n",
    "Погрешность оценивалась как $|f'(x) - p'(x)| \\le \\beta || f^3 ||_C \\max_i |x - x_i|^2$, где $\\beta$ -- какая-то константа. \n",
    "\n",
    "$\\max_i |x - x_i|$ равна либо $h / \\alpha$, либо 0, либо $\\alpha h$. \n",
    "\n",
    "По условию $\\alpha \\ge 1 \\Rightarrow \\alpha^2 \\ge 1 \\Rightarrow \\alpha \\ge \\frac{1}{\\alpha} \\Rightarrow \\alpha h \\ge \\frac{h}{\\alpha}$. Значит, $|f'(x) - p'(x)| \\le \\beta (\\alpha h)^2$.\n",
    "\n",
    "Видим, что результат совпадает с теоретическим: при стремлении $h$ к 0 погрешность стремится к 0 (с квадратичной скоростью), с ростом $\\alpha$ при фиксированном $h$ погрешность растёт."
   ]
  },
  {
   "cell_type": "markdown",
   "metadata": {},
   "source": [
    "### Упражнение 2\n",
    "\n",
    "### A)\n",
    "\n",
    "Вычислим значение интеграла. \n",
    "\n",
    "$\\int \\frac{1}{1 + 9x^2} dx = \\frac{1}{3} \\int_{-1}^5 \\frac{1}{1 + t^2} dt = \\frac{1}{3} arctg(t) = \\frac{1}{3} arctg(3x)$\n",
    "\n",
    "$I = \\int_{-1}^5 \\frac{1}{1 + 9x^2} dx = \\frac{1}{3} arctg(3x) \\Big|_{-1}^5$\n",
    "\n",
    "Посчитаем это значение:"
   ]
  },
  {
   "cell_type": "code",
   "execution_count": 22,
   "metadata": {},
   "outputs": [
    {
     "name": "stdout",
     "output_type": "stream",
     "text": [
      "0.9177579784724423\n"
     ]
    }
   ],
   "source": [
    "def func2(x):\n",
    "    return 1 / (1 + 9 * x ** 2);\n",
    "\n",
    "def int_func2(x):\n",
    "    return 1 / 3 * np.arctan(3 * x)\n",
    "\n",
    "a = -1\n",
    "b = 5\n",
    "\n",
    "int_val = int_func(b) - int_func(a)\n",
    "\n",
    "print(int_val)"
   ]
  },
  {
   "cell_type": "markdown",
   "metadata": {},
   "source": [
    "Напишем программы, вычисляющие $I$ с помощью составных формул трапеции и Симпсона."
   ]
  },
  {
   "cell_type": "code",
   "execution_count": 18,
   "metadata": {},
   "outputs": [
    {
     "name": "stdout",
     "output_type": "stream",
     "text": [
      "0.9177571264695299\n"
     ]
    }
   ],
   "source": [
    "def trapezium_method(f, a, b, M):\n",
    "    H = (b - a) / M\n",
    "    ans = (f(a) + f(b)) / 2\n",
    "    \n",
    "    for i in range(1, M):\n",
    "        ans += f(a + i * H)\n",
    "        \n",
    "    return ans * H\n",
    "\n",
    "print(trapezium_method(func2, -1, 5, 800))        \n",
    "        "
   ]
  },
  {
   "cell_type": "code",
   "execution_count": 21,
   "metadata": {},
   "outputs": [
    {
     "name": "stdout",
     "output_type": "stream",
     "text": [
      "0.9177579784707307\n"
     ]
    }
   ],
   "source": [
    "def simpson_method(f, a, b, M):\n",
    "    H = (b - a) / M\n",
    "    ans = 0\n",
    "    \n",
    "    k = 0\n",
    "    while (k <= M):\n",
    "        coeff = 1\n",
    "    \n",
    "        if (k == 0 or k == M):\n",
    "            coeff = 1\n",
    "        elif ((2 * k) % 2 == 0):    \n",
    "            coeff = 2\n",
    "        else:\n",
    "            coeff = 4\n",
    "            \n",
    "        ans += coeff * f(a + k * H) \n",
    "        k += 0.5\n",
    "            \n",
    "    return ans * H / 6\n",
    "\n",
    "print(simpson_method(func2, -1, 5, 800))  "
   ]
  },
  {
   "cell_type": "markdown",
   "metadata": {},
   "source": [
    "Видим, что с помощью обеих формул интеграл посчитан правильно с точностью до 6-го знака.\n",
    "\n",
    "Построим графики погрешностей в зависимости от числа интервалов $M$.\n",
    "\n",
    "Рассмотрим формулу трапеций при $M \\in [1; 40]$."
   ]
  },
  {
   "cell_type": "code",
   "execution_count": 39,
   "metadata": {},
   "outputs": [
    {
     "data": {
      "image/png": "[encoded data removed]",
      "text/plain": [
       "<matplotlib.figure.Figure at 0x116c460f0>"
      ]
     },
     "metadata": {},
     "output_type": "display_data"
    }
   ],
   "source": [
    "ms = [i for i in range(1, 40)]\n",
    "\n",
    "ys_trapezium = [np.abs(int_val - trapezium_method(func2, -1, 5, m)) for m in ms]\n",
    "pylab.plot(ms, ys_trapezium)\n",
    "pylab.show()\n"
   ]
  },
  {
   "cell_type": "markdown",
   "metadata": {},
   "source": [
    "При таком масштабе можем заметить, что погрешность убывает, начиная примерно с 20.\n",
    "\n",
    "Посмотрим, как ведет себя график на другом промежутке."
   ]
  },
  {
   "cell_type": "code",
   "execution_count": 40,
   "metadata": {},
   "outputs": [
    {
     "data": {
      "image/png": "[encoded data removed]",
      "text/plain": [
       "<matplotlib.figure.Figure at 0x11b0ad6a0>"
      ]
     },
     "metadata": {},
     "output_type": "display_data"
    }
   ],
   "source": [
    "ms = [i for i in range(200, 3000, 2)]\n",
    "\n",
    "ys_trapezium = [np.abs(int_val - trapezium_method(func2, -1, 5, m)) for m in ms]\n",
    "pylab.plot(ms, ys_trapezium)\n",
    "pylab.show()"
   ]
  },
  {
   "cell_type": "markdown",
   "metadata": {},
   "source": [
    "Взглянув на график, можно предположить, что зависимость гиперболическая.\n",
    "\n",
    "Сравним с теоретическим значением. \n",
    "\n",
    "$|R_T[f]| \\le A_2 \\frac{b-a}{12} H^2 = A_2 \\frac{b-a}{12} \\frac{(b-a)^2}{M^2} = \\gamma \\frac{1}{M^2}$, где $\\gamma$ -- неотрицательная константа. То есть, как мы видим, скорость убывания погрешности не превышает $\\gamma \\frac{1}{M^2}$."
   ]
  },
  {
   "cell_type": "markdown",
   "metadata": {},
   "source": [
    "Далее рассмотрим формулу Симпсона."
   ]
  },
  {
   "cell_type": "code",
   "execution_count": 43,
   "metadata": {},
   "outputs": [
    {
     "data": {
      "image/png": "[encoded data removed]",
      "text/plain": [
       "<matplotlib.figure.Figure at 0x116c389e8>"
      ]
     },
     "metadata": {},
     "output_type": "display_data"
    }
   ],
   "source": [
    "ms = [i for i in range(1, 40)]\n",
    "\n",
    "ys_simpson = [np.abs(int_val - simpson_method(func2, -1, 5, m)) for m in ms]\n",
    "pylab.plot(ms, ys_simpson)\n",
    "pylab.show()"
   ]
  },
  {
   "cell_type": "code",
   "execution_count": 44,
   "metadata": {},
   "outputs": [
    {
     "data": {
      "image/png": "[encoded data removed]",
      "text/plain": [
       "<matplotlib.figure.Figure at 0x1167923c8>"
      ]
     },
     "metadata": {},
     "output_type": "display_data"
    }
   ],
   "source": [
    "ms = [i for i in range(200, 1000, 2)]\n",
    "\n",
    "ys_simpson = [np.abs(int_val - simpson_method(func2, -1, 5, m)) for m in ms]\n",
    "pylab.plot(ms, ys_simpson)\n",
    "pylab.show()"
   ]
  },
  {
   "cell_type": "markdown",
   "metadata": {},
   "source": [
    "Исходя из графика, можно сделать такое же предположение. Посмотрим на теоретическое значение.\n",
    "\n",
    "$|R_S[f]| \\le A_4 \\frac{b-a}{180} h^4 = A_4 \\frac{b-a}{180} \\frac{H^4}{2^4} = \\theta \\frac{1}{M^4}$, где $\\theta$ -- неотрицательная константа. То есть, как мы видим, скорость убывания погрешности не превышает $\\theta \\frac{1}{M^4}$.\n"
   ]
  },
  {
   "cell_type": "markdown",
   "metadata": {},
   "source": [
    "### B)\n",
    "\n",
    "Воспользуемся правилом Рунге для оценки длины шага, необходимого для достижения заданной погрешности.\n",
    "\n",
    "Пусть $H_2 = H_1 / 2$.\n",
    "По условию $\\varepsilon = 10^{-6}$.\n",
    "\n",
    "По правилу Рунге: $C \\approx \\frac{1}{3H^2_2} (S_{H_2}(f) - S_{H_1}(f))$, $|CH^2| \\le \\varepsilon \n",
    "\\Rightarrow H \\le \\sqrt{\\frac{\\varepsilon}{|C|}}$."
   ]
  },
  {
   "cell_type": "code",
   "execution_count": 59,
   "metadata": {},
   "outputs": [
    {
     "name": "stdout",
     "output_type": "stream",
     "text": [
      "Длина шага, полученная с помощью правила Рунге: \n",
      "0.008125290343081414\n"
     ]
    }
   ],
   "source": [
    "eps = 10 ** (-6)\n",
    "H1 = 10 ** (-3)\n",
    "H2 = H1 / 2\n",
    "\n",
    "def find_step_runge():\n",
    "    s2 = trapezium_method(func2, -1, 5, int(6 / H2))\n",
    "    s1 = trapezium_method(func2, -1, 5, int(6 / H1))\n",
    "    c = (s2 - s1) / (3 * H2 ** 2)\n",
    "    return np.sqrt(eps / np.abs(c))\n",
    "\n",
    "runge_step = find_step_runge()\n",
    "print(\"Длина шага, полученная с помощью правила Рунге: \")\n",
    "print(runge_step)"
   ]
  },
  {
   "cell_type": "code",
   "execution_count": 60,
   "metadata": {},
   "outputs": [
    {
     "name": "stdout",
     "output_type": "stream",
     "text": [
      "Фактическая длина шага:\n",
      "0.008119079837618403\n"
     ]
    }
   ],
   "source": [
    "def find_step_practice():\n",
    "    M = 1\n",
    "    \n",
    "    while True:\n",
    "        error = np.abs(int_val - trapezium_method(func2, -1, 5, M))\n",
    "        if (error < eps):\n",
    "            return 6 / M\n",
    "            break\n",
    "        M += 1   \n",
    "    \n",
    "    return None\n",
    "\n",
    "practice_step = find_step_practice()\n",
    "print(\"Фактическая длина шага:\")\n",
    "print(practice_step)"
   ]
  },
  {
   "cell_type": "code",
   "execution_count": 61,
   "metadata": {},
   "outputs": [
    {
     "name": "stdout",
     "output_type": "stream",
     "text": [
      "Абсолютная разность между двумя значениями шага:\n",
      "6.210505463011273e-06\n"
     ]
    }
   ],
   "source": [
    "print(\"Абсолютная разность между двумя значениями шага:\")\n",
    "print(np.abs(practice_step - runge_step))"
   ]
  },
  {
   "cell_type": "markdown",
   "metadata": {},
   "source": [
    "Фактическая длина шага получилась чуть меньшей, чем оценка, полученная с помощью правила Рунге, значит, оценка была вычислена верно. При этом разность между двумя полученными значениями не очень большая, значит, оценка довольно точная."
   ]
  },
  {
   "cell_type": "markdown",
   "metadata": {},
   "source": [
    "### C)\n",
    "Вычислим веса для формул Ньютона-Котеса. \n"
   ]
  },
  {
   "cell_type": "code",
   "execution_count": 81,
   "metadata": {},
   "outputs": [],
   "source": [
    "def func_prod(N, i):\n",
    "    def fun(q):\n",
    "        res = 1\n",
    "    \n",
    "        for k in range(1, N + 1):\n",
    "            if (k != i):\n",
    "                res *= q - (k - 1)\n",
    "        return res\n",
    "    return fun       \n",
    "\n",
    "def get_coeff(i, N):\n",
    "    return (-1) ** (N - i) / math.factorial(i - 1) / math.factorial(N - i)\n",
    "    \n",
    "def get_weights(a=-1, b=1, N=2, M=1000):\n",
    "    h = (b - a) / (N - 1)\n",
    "    return [get_coeff(i, N) * h * trapezium_method(func_prod(N, i), 0, N-1, M) for i in range(1, N + 1)]\n",
    "    "
   ]
  },
  {
   "cell_type": "code",
   "execution_count": 88,
   "metadata": {},
   "outputs": [
    {
     "name": "stdout",
     "output_type": "stream",
     "text": [
      "9\n"
     ]
    }
   ],
   "source": [
    "def get_first_N_with_neg():\n",
    "    k = 2\n",
    "    \n",
    "    while True:\n",
    "        min_val = min(get_weights(-1, 1, k, 1000))\n",
    "        if min_val < 0:\n",
    "            return k\n",
    "            break\n",
    "        k += 1\n",
    "                      \n",
    "    return None\n",
    "\n",
    "print(get_first_N_with_neg())"
   ]
  },
  {
   "cell_type": "markdown",
   "metadata": {},
   "source": [
    "Как видим, для $N = 9$ впервые появляются отрицательные веса. "
   ]
  }
 ],
 "metadata": {
  "kernelspec": {
   "display_name": "Python 3",
   "language": "python",
   "name": "python3"
  },
  "language_info": {
   "codemirror_mode": {
    "name": "ipython",
    "version": 3
   },
   "file_extension": ".py",
   "mimetype": "text/x-python",
   "name": "python",
   "nbconvert_exporter": "python",
   "pygments_lexer": "ipython3",
   "version": "3.6.4"
  }
 },
 "nbformat": 4,
 "nbformat_minor": 2
}
