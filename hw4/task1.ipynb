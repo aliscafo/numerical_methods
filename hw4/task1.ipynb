{
 "cells": [
  {
   "cell_type": "markdown",
   "metadata": {},
   "source": [
    "## Упражнение 1"
   ]
  },
  {
   "cell_type": "markdown",
   "metadata": {},
   "source": [
    "Напишем программу для нахождения корней многочленов Лежандра, используя метод Ньютона.\n",
    "Воспользуемся тем, что $L'_n(x) = \\frac{n}{1 - x^2}[L_{n-1}(x) - x L_n(x)]$.\n",
    "\n",
    "Также пользуемся перемежаемостью корней. Начальное приближение для каждого нового корня $L_n$ берём как середину отрезка между соседними корнями $L_{n-1}$."
   ]
  },
  {
   "cell_type": "code",
   "execution_count": 61,
   "metadata": {},
   "outputs": [],
   "source": [
    "import scipy.special\n",
    "import numpy as np\n",
    "import pylab\n",
    "\n",
    "eps = 1e-6\n",
    "\n",
    "def polynom(n, x):\n",
    "    return scipy.special.legendre(n)(x)\n",
    "\n",
    "def d_polynom(n, x):\n",
    "    return n / (1 - x ** 2) * (polynom(n - 1, x) - x * polynom(n, x))\n",
    "\n",
    "def newtons_iteration_method(n, x0):\n",
    "    xt = x0 - polynom(n, x0) / d_polynom(n, x0)\n",
    "    while (abs(xt - x0) > eps):\n",
    "        x0 = xt\n",
    "        xt = x0 - polynom(n, x0) / d_polynom(n, x0)\n",
    "    return xt\n",
    "\n",
    "def find_roots(n):\n",
    "    if n == 0:\n",
    "        return []\n",
    "    \n",
    "    res = []\n",
    "    prev_roots = [-1] + find_roots(n - 1) + [1]\n",
    "    prev_roots_size = len(prev_roots)\n",
    "    \n",
    "    for i in range(0, prev_roots_size - 1):\n",
    "        x0 = (prev_roots[i] + prev_roots[i + 1]) / 2\n",
    "        res.append(newtons_iteration_method(n, x0))\n",
    "        \n",
    "    return res\n"
   ]
  },
  {
   "cell_type": "markdown",
   "metadata": {},
   "source": [
    "Вычислим веса соответствующей формулы Гаусса, используя метод Симпсона.\n",
    "\n",
    "Явное выражение для весов:\n",
    "\n",
    "$w_i = \\int^a_b \\prod_{k \\neq i} \\frac{x - x_k}{x_i - x_k} \\rho(x) dx$\n",
    "\n",
    "В случае полиномов Лежандра $\\rho(x) = 1$."
   ]
  },
  {
   "cell_type": "code",
   "execution_count": 42,
   "metadata": {},
   "outputs": [],
   "source": [
    "def simpson_method(f, a, b, M=1000):\n",
    "    H = (b - a) / M\n",
    "    ans = 0\n",
    "    \n",
    "    k = 0\n",
    "    while (k <= M):\n",
    "        coeff = 1\n",
    "    \n",
    "        if (k == 0 or k == M):\n",
    "            coeff = 1\n",
    "        elif ((2 * k) % 2 == 0):    \n",
    "            coeff = 2\n",
    "        else:\n",
    "            coeff = 4\n",
    "            \n",
    "        ans += coeff * f(a + k * H) \n",
    "        k += 0.5\n",
    "            \n",
    "    return ans * H / 6\n",
    "\n",
    "def prod(roots, i):\n",
    "    def f(x):\n",
    "        pr = 1\n",
    "        size = len(roots)\n",
    "        for k in range(0, size):\n",
    "            if (k != i):\n",
    "                pr *= (x - roots[k]) / (roots[i] - roots[k])\n",
    "        return pr        \n",
    "        \n",
    "    return f\n",
    "        \n",
    "def get_weights(a, b, n):\n",
    "    roots = find_roots(n)\n",
    "    weights = [simpson_method(prod(roots, i), a, b) for i in range(0, n)]\n",
    "    return weights     "
   ]
  },
  {
   "cell_type": "markdown",
   "metadata": {},
   "source": [
    "Напишем программу, вычисляющую $I$ с помощью полученной квадратурной формулы."
   ]
  },
  {
   "cell_type": "code",
   "execution_count": 51,
   "metadata": {},
   "outputs": [
    {
     "name": "stdout",
     "output_type": "stream",
     "text": [
      "0.9177579784724423\n"
     ]
    }
   ],
   "source": [
    "def func(x):\n",
    "    return 1 / (1 + 9 * x ** 2);\n",
    "\n",
    "def int_func(x):\n",
    "    return 1 / 3 * np.arctan(3 * x)\n",
    "\n",
    "a = -1\n",
    "b = 5\n",
    "\n",
    "int_val = int_func(b) - int_func(a)\n",
    "print(int_val)"
   ]
  },
  {
   "cell_type": "code",
   "execution_count": 58,
   "metadata": {},
   "outputs": [
    {
     "name": "stdout",
     "output_type": "stream",
     "text": [
      "0.9177586095786642\n"
     ]
    }
   ],
   "source": [
    "def calc_i_quadrature_formula(n, a, b):\n",
    "    roots0 = find_roots(n)\n",
    "    roots = [(b - a) * x / 2 + (b + a) / 2 for x in roots0]\n",
    "    weights = get_weights(-1, 1, n)\n",
    "    \n",
    "    return (b - a) * 0.5 * sum([func(x) * w for x, w in zip(roots, weights)])\n",
    "    \n",
    "print(calc_i_quadrature_formula(50, -1, 5)) "
   ]
  },
  {
   "cell_type": "markdown",
   "metadata": {},
   "source": [
    "Построим графики погрешностей в зависимости от числа узлов для метода с использованием квадратурной формулы и для метода Симпсона."
   ]
  },
  {
   "cell_type": "code",
   "execution_count": 66,
   "metadata": {},
   "outputs": [
    {
     "data": {
      "image/png": "[encoded data removed]",
      "text/plain": [
       "<matplotlib.figure.Figure at 0x111266940>"
      ]
     },
     "metadata": {},
     "output_type": "display_data"
    }
   ],
   "source": [
    "nodes_num = [i for i in range(1, 50)]\n",
    "\n",
    "simpson_method_ys = [np.log10(abs(int_val - simpson_method(func, -1, 5, i))) for i in nodes_num]\n",
    "quadrature_method_ys = [np.log10(abs(int_val - calc_i_quadrature_formula(i, -1, 5))) for i in nodes_num]\n",
    "\n",
    "pylab.plot(nodes_num, simpson_method_ys, label=\"simpson\")\n",
    "pylab.plot(nodes_num, quadrature_method_ys, label=\"quadrature\")\n",
    "pylab.legend()\n",
    "pylab.show()"
   ]
  },
  {
   "cell_type": "markdown",
   "metadata": {},
   "source": [
    "Глядя на графики погрешности, можно заметить следующее. Метод Симпсона ведёт себя лучше, давая меньшую погрешность практически на всём рассмотренном участке. Если говорить о методе с использованием квадратурной формулы Гаусса, то его график погрешности показывает линейную зависимость (основная тенденция). Это говорит об экспоненциальном убывании погрешности такого метода."
   ]
  },
  {
   "cell_type": "code",
   "execution_count": null,
   "metadata": {},
   "outputs": [],
   "source": []
  }
 ],
 "metadata": {
  "kernelspec": {
   "display_name": "Python 3",
   "language": "python",
   "name": "python3"
  },
  "language_info": {
   "codemirror_mode": {
    "name": "ipython",
    "version": 3
   },
   "file_extension": ".py",
   "mimetype": "text/x-python",
   "name": "python",
   "nbconvert_exporter": "python",
   "pygments_lexer": "ipython3",
   "version": "3.6.4"
  }
 },
 "nbformat": 4,
 "nbformat_minor": 2
}
